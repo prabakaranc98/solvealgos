{
 "cells": [
  {
   "cell_type": "code",
   "execution_count": 1,
   "id": "3e6d8b37-b12f-4257-bd9c-d8ffc73caf92",
   "metadata": {},
   "outputs": [],
   "source": [
    "#### I Mainly focus on the implementation and analysis of imporant algos and the mathematics involve in that."
   ]
  },
  {
   "cell_type": "code",
   "execution_count": 2,
   "id": "dcea6a02-a0c8-4bf5-be0e-ab67e39b95bd",
   "metadata": {},
   "outputs": [],
   "source": [
    "### insertion soet : "
   ]
  },
  {
   "cell_type": "code",
   "execution_count": 10,
   "id": "8a8dd29e-724e-489f-8e19-c4d6398795b9",
   "metadata": {},
   "outputs": [],
   "source": [
    "def insertion_sort(A:list, n:int)->list:\n",
    "    for i in range(1,n):\n",
    "        key = A[i]\n",
    "        j = i-1\n",
    "        while (j>0) and (A[j]>key):\n",
    "            A[j+1] = A[j]\n",
    "            j=j-1\n",
    "        A[j+1] = key #all the time the zero the position it goes or the last position it goes.\n",
    "\n",
    "    return A"
   ]
  },
  {
   "cell_type": "code",
   "execution_count": 12,
   "id": "0a86a6ab-06ab-4e9d-8b0a-015673f60060",
   "metadata": {},
   "outputs": [
    {
     "data": {
      "text/plain": [
       "[1, 3, 4, 5, 6, 7, 21]"
      ]
     },
     "execution_count": 12,
     "metadata": {},
     "output_type": "execute_result"
    }
   ],
   "source": [
    "insertion_sort([1,21,3,4,5,6,7],7)"
   ]
  },
  {
   "cell_type": "code",
   "execution_count": null,
   "id": "37e664d6-0f5e-4ee7-ac41-5ce1e09d532b",
   "metadata": {},
   "outputs": [],
   "source": []
  }
 ],
 "metadata": {
  "kernelspec": {
   "display_name": "Python 3 (ipykernel)",
   "language": "python",
   "name": "python3"
  },
  "language_info": {
   "codemirror_mode": {
    "name": "ipython",
    "version": 3
   },
   "file_extension": ".py",
   "mimetype": "text/x-python",
   "name": "python",
   "nbconvert_exporter": "python",
   "pygments_lexer": "ipython3",
   "version": "3.13.7"
  }
 },
 "nbformat": 4,
 "nbformat_minor": 5
}
